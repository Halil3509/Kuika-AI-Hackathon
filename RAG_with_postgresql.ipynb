{
 "cells": [
  {
   "cell_type": "code",
   "execution_count": null,
   "id": "28be11b0",
   "metadata": {},
   "outputs": [],
   "source": [
    "import pandas as pd\n",
    "from dotenv import dotenv_values\n",
    "import psycopg2\n",
    "\n",
    "import numpy as np"
   ]
  },
  {
   "cell_type": "code",
   "execution_count": 10,
   "id": "72eb8aac",
   "metadata": {},
   "outputs": [],
   "source": [
    "env_vars = dotenv_values('<postgres.env_path>')\n",
    "\n",
    "DATABASE_NAME = env_vars.get('DATABASE_NAME')\n",
    "DATABASE_USER = env_vars.get('DATABASE_USER')\n",
    "DATABASE_PASSWORD = env_vars.get('DATABASE_PASSWORD')\n",
    "DATABASE_HOST = env_vars.get('DATABASE_HOST')\n",
    "OPENAI_API_KEY = env_vars.get('OPENAI_API_KEY')"
   ]
  },
  {
   "cell_type": "code",
   "execution_count": 3,
   "id": "71f77943",
   "metadata": {},
   "outputs": [],
   "source": [
    "df = pd.read_excel('./Postre_Data/Siparisler_Tabular.xlsx') # We deleted this file due to the privacy"
   ]
  },
  {
   "cell_type": "code",
   "execution_count": 4,
   "id": "c5856260",
   "metadata": {},
   "outputs": [],
   "source": [
    "df2 = pd.read_excel('./Postre_Data/Gunluk_Uretim_Adetleri_Raporu_Tabular.xlsx') # We deleted this file due to the privacy"
   ]
  },
  {
   "cell_type": "code",
   "execution_count": 5,
   "id": "ee80bbef",
   "metadata": {},
   "outputs": [],
   "source": [
    "def row_to_string(row):\n",
    "    return ', '.join([f\"{col}: {row[col]}\" for col in row.index])\n",
    "\n",
    "df['text'] = df.apply(row_to_string, axis=1)"
   ]
  },
  {
   "cell_type": "code",
   "execution_count": 6,
   "id": "93e9dccf",
   "metadata": {},
   "outputs": [],
   "source": [
    "df = df[:1000]"
   ]
  },
  {
   "cell_type": "code",
   "execution_count": 7,
   "id": "929bba3e",
   "metadata": {},
   "outputs": [],
   "source": [
    "from openai import OpenAI\n",
    "client = OpenAI(api_key=\"<open_ai_api_key>\")"
   ]
  },
  {
   "cell_type": "code",
   "execution_count": 11,
   "id": "a94a72ee",
   "metadata": {},
   "outputs": [
    {
     "name": "stderr",
     "output_type": "stream",
     "text": [
      "\n",
      "KeyboardInterrupt\n",
      "\n"
     ]
    }
   ],
   "source": [
    "def get_embedding(text):\n",
    "    return client.embeddings.create(input = [text], model='text-embedding-3-large').data[0].embedding\n",
    "\n",
    "df['embedding'] = df['text'].apply(get_embedding)"
   ]
  },
  {
   "cell_type": "code",
   "execution_count": null,
   "id": "47ef2b03",
   "metadata": {},
   "outputs": [],
   "source": [
    "conn = psycopg2.connect(\n",
    "    dbname=DATABASE_NAME,\n",
    "    user=DATABASE_USER,\n",
    "    password=DATABASE_PASSWORD,\n",
    "    host=DATABASE_HOST\n",
    ")"
   ]
  },
  {
   "cell_type": "code",
   "execution_count": null,
   "id": "ace5cffb",
   "metadata": {},
   "outputs": [],
   "source": [
    "cur = conn.cursor()\n",
    "\n",
    "# Tablo oluşturma\n",
    "cur.execute('''\n",
    "CREATE TABLE IF NOT EXISTS siparis_embeddings (\n",
    "    id SERIAL PRIMARY KEY,\n",
    "    text TEXT,\n",
    "    embedding VECTOR(3072)  -- OpenAI embedding boyutu\n",
    ")\n",
    "''')\n",
    "conn.commit()"
   ]
  },
  {
   "cell_type": "code",
   "execution_count": 12,
   "id": "273100ba",
   "metadata": {},
   "outputs": [],
   "source": [
    "for index, row in df.iterrows():\n",
    "    embedding_vector = np.array(row['embedding'])\n",
    "    cur.execute(\n",
    "        'INSERT INTO siparis_embeddings (text, embedding) VALUES (%s, %s)',\n",
    "        (row['text'], embedding_vector.tolist())\n",
    "    )\n",
    "\n",
    "conn.commit()"
   ]
  },
  {
   "cell_type": "code",
   "execution_count": 13,
   "id": "2e599729",
   "metadata": {},
   "outputs": [],
   "source": [
    "df2 = df2[50:1050]"
   ]
  },
  {
   "cell_type": "code",
   "execution_count": 14,
   "id": "88cc48ab",
   "metadata": {},
   "outputs": [],
   "source": [
    "df2['text'] = df2.apply(row_to_string, axis=1)"
   ]
  },
  {
   "cell_type": "code",
   "execution_count": 15,
   "id": "2813af96",
   "metadata": {},
   "outputs": [],
   "source": [
    "df2['embedding'] = df2['text'].apply(get_embedding)"
   ]
  },
  {
   "cell_type": "code",
   "execution_count": 16,
   "id": "49d3492b",
   "metadata": {},
   "outputs": [],
   "source": [
    "cur = conn.cursor()\n",
    "\n",
    "# Tablo oluşturma\n",
    "cur.execute('''\n",
    "CREATE TABLE IF NOT EXISTS uretim_embeddings (\n",
    "    id SERIAL PRIMARY KEY,\n",
    "    text TEXT,\n",
    "    embedding VECTOR(3072)  -- OpenAI embedding boyutu\n",
    ")\n",
    "''')\n",
    "conn.commit()"
   ]
  },
  {
   "cell_type": "code",
   "execution_count": 17,
   "id": "f117d840",
   "metadata": {},
   "outputs": [],
   "source": [
    "for index, row in df2.iterrows():\n",
    "    embedding_vector = np.array(row['embedding'])\n",
    "    cur.execute(\n",
    "        'INSERT INTO uretim_embeddings (text, embedding) VALUES (%s, %s)',\n",
    "        (row['text'], embedding_vector.tolist())\n",
    "    )\n",
    "\n",
    "conn.commit()"
   ]
  },
  {
   "cell_type": "code",
   "execution_count": null,
   "id": "4436b0f7",
   "metadata": {},
   "outputs": [],
   "source": []
  },
  {
   "cell_type": "code",
   "execution_count": 18,
   "id": "2557a23f",
   "metadata": {},
   "outputs": [],
   "source": [
    "cur=conn.cursor()\n",
    "cur.execute(\"SELECT text, embedding FROM uretim_embeddings\")\n",
    "results = cur.fetchall()\n",
    "\n",
    "texts = []\n",
    "embeddings = []\n",
    "for row in results:\n",
    "    texts.append(row[0])\n",
    "    embeddings.append(row[1])\n"
   ]
  },
  {
   "cell_type": "code",
   "execution_count": 20,
   "id": "4c312f78",
   "metadata": {},
   "outputs": [],
   "source": [
    "import ast"
   ]
  },
  {
   "cell_type": "code",
   "execution_count": 21,
   "id": "55350757",
   "metadata": {},
   "outputs": [
    {
     "name": "stdout",
     "output_type": "stream",
     "text": [
      "Dikim olan ve C&A ürünleri\n",
      "Generated text: Retrieved texts: \n",
      "    [['Order No: PLM16686, Model Kodu: DSG08713-001, Model Adı: 22775, Müşteri: C&A Buying GmbH & Co. KG, Bölüm: nan, Tedarikçi: Numune Dikim Bandı - C&A / ING / RESERVED  / lCW / BRAVADO, Müşteri Order No: nan, Rpt: nan, Marka: C&A, Renk Kodu: 0352 Red, İşlem: Kesim, RSN: nan, Tarih: 44664.0, Adet: 3.0, Kumaş: nan, Kumaş Tipi: nan, Kalite Tipi: Sağlam']\n",
      " ['Order No: PLM24012, Model Kodu: DSG11710-001, Model Adı: YS-2779 B, Müşteri: C&A Buying GmbH & Co. KG, Bölüm: nan, Tedarikçi: Numune Dikim Bandı - C&A / ING / RESERVED  / lCW / BRAVADO, Müşteri Order No: nan, Rpt: nan, Marka: C&A, Renk Kodu: CUTTING 42, İşlem: Dikim, RSN: nan, Tarih: 44820.0, Adet: 3.0, Kumaş: nan, Kumaş Tipi: nan, Kalite Tipi: Sağlam']\n",
      " ['Order No: PLM16769, Model Kodu: DSG08759-001, Model Adı: CB0422-01, Müşteri: C&A Buying GmbH & Co. KG, Bölüm: nan, Tedarikçi: Numune Dikim Bandı - C&A / ING / RESERVED  / lCW / BRAVADO, Müşteri Order No: nan, Rpt: nan, Marka: C&A, Renk Kodu: Black, İşlem: Kesim, RSN: nan, Tarih: 44671.0, Adet: 3.0, Kumaş: nan, Kumaş Tipi: nan, Kalite Tipi: Sağlam']\n",
      " ['Order No: PLM16868, Model Kodu: DSG08666-002, Model Adı: YS-2566, Müşteri: C&A Buying GmbH & Co. KG, Bölüm: nan, Tedarikçi: Numune Dikim Bandı - C&A / ING / RESERVED  / lCW / BRAVADO, Müşteri Order No: nan, Rpt: nan, Marka: C&A, Renk Kodu: 17-0123 TCX, İşlem: Dikim, RSN: nan, Tarih: 44665.0, Adet: 3.0, Kumaş: nan, Kumaş Tipi: nan, Kalite Tipi: Sağlam']\n",
      " ['Order No: PLM24097, Model Kodu: SMP05757-002, Model Adı: 2200289 ADONYS, Müşteri: C&A Buying GmbH & Co. KG, Bölüm: nan, Tedarikçi: Numune Dikim Bandı - C&A / ING / RESERVED  / lCW / BRAVADO, Müşteri Order No: nan, Rpt: nan, Marka: C&A, Renk Kodu: 04-Mid Grey, İşlem: Dikim, RSN: nan, Tarih: 44834.0, Adet: 9.0, Kumaş: nan, Kumaş Tipi: nan, Kalite Tipi: Sağlam']]\n",
      "\n",
      "    Query: Dikim olan ve C&A ürünleri\n",
      "Generate:\n"
     ]
    }
   ],
   "source": [
    "def retrieve_and_generate(query_text, embeddings, texts, k=5):\n",
    "    # Step 1: Retrieve top-k texts based on similarity to query_text\n",
    "    print(query_text)\n",
    "    query_embedding = np.array(get_embedding(query_text))\n",
    "    query_embedding = query_embedding.reshape(1, -1)  # Ensure the embedding is ;\n",
    "    similarities = []\n",
    "\n",
    "    for emb in embeddings:\n",
    "        # Ensure the embedding is converted from string to numpy array\n",
    "        emb = np.array(ast.literal_eval(emb)).reshape(1, -1)\n",
    "        similarity = np.dot(query_embedding, emb.T) / (np.linalg.norm(query_embedding) * np.linalg.norm(emb))\n",
    "        similarities.append(similarity[0][0])\n",
    "\n",
    "    # Get top-k indices\n",
    "    top_k_indices = np.argsort(similarities)[-k:][::-1]\n",
    "\n",
    "    # Retrieve top-k texts\n",
    "    top_k_texts = [texts[idx] for idx in top_k_indices]\n",
    "\n",
    "    # Step 2: Generate text using OpenAI GPT model based on the retrieved texts\n",
    "    prompt = f\"\"\"Retrieved texts: \n",
    "    {np.array(top_k_texts).reshape(-1, 1)}\\n\n",
    "    Query: {query_text}\\nGenerate:\"\"\"\n",
    "        \n",
    "    return prompt\n",
    "\n",
    "# Example usage\n",
    "query_text = \"Dikim olan ve C&A ürünleri\"\n",
    "generated_text = retrieve_and_generate(query_text, embeddings, texts)\n",
    "print(\"Generated text:\", generated_text)"
   ]
  },
  {
   "cell_type": "code",
   "execution_count": 23,
   "id": "eddfe4b9",
   "metadata": {},
   "outputs": [],
   "source": [
    "cur=conn.cursor()\n",
    "cur.execute(\"SELECT text, embedding FROM siparis_embeddings\")\n",
    "results_uretim = cur.fetchall()\n",
    "\n",
    "texts_siparis = []\n",
    "embeddings_siparis = []\n",
    "for row in results_uretim:\n",
    "    texts_siparis.append(row[0])\n",
    "    embeddings_siparis.append(row[1])\n"
   ]
  },
  {
   "cell_type": "code",
   "execution_count": 24,
   "id": "5b2e19bb",
   "metadata": {},
   "outputs": [
    {
     "name": "stdout",
     "output_type": "stream",
     "text": [
      "Departmanı Young Girl(8716) olan kayıtlar\n",
      "Generated text: Retrieved texts: \n",
      "    [['Durum: Açık, Statü: Planlandı, Booking -> Order: EVET, Set Order: HAYIR, Set Parça Sayısı: nan, Order Tipi: Firm Order, Booking Type: Müşteri, Order Grubu: nan, Satış Tipi: Müşteri Koleksiyonu, Sertifikasyon: BCI, Order No: H&M241063, Order Geliş Tarihi: 45436, Sisteme Giriş Tarihi: 45436, Satır ya da Sütun M.İsteme Tarihi: 45488, YIL: 2024, AY: 7, HAFTA: 29, ÇEYREK: Q3, Müşteri Order No: 970190-8716, RPT: nan, Açıklama: nan, Model Kodu: H&M05772, Model Adı: SUSIE Raglan Dress s0 1251087D-8716 ALT 1, Model Grup Kodu: EBB, Model Grup Adı: Baskılı Elbise, Model Group Name: Printed Dress, Sezon: H&M S 0, Müşteri: H&M, Marka: H&M, Departman: Young Girl (8716), Tedarik Grubu: 10-204, Ülke Kodu: GB, Sipariş Adedi: 1256, Döviz Türü: EUR, Döviz Birim Fiyat: 4.16, Döviz Ciro: 5224.96, EUR Ciro: 5224.96, Etüt Makina Dk: 10.344, Toplam Etüt Makina Dk: 12992.064, Etüt Dk: 11.604, Toplam Etüt Dk: 14574.624, MA_WorkOrder_RecId: 147930, NetsisProjectCode: HM01, Booking Statüsü: Kapasite, Order Tipi - Durum: Firm Order - Açık']\n",
      " ['Durum: Açık, Statü: Planlandı, Booking -> Order: EVET, Set Order: HAYIR, Set Parça Sayısı: nan, Order Tipi: Firm Order, Booking Type: Müşteri, Order Grubu: nan, Satış Tipi: Müşteri Koleksiyonu, Sertifikasyon: BCI, Order No: H&M241063, Order Geliş Tarihi: 45436, Sisteme Giriş Tarihi: 45436, Satır ya da Sütun M.İsteme Tarihi: 45488, YIL: 2024, AY: 7, HAFTA: 29, ÇEYREK: Q3, Müşteri Order No: 970190-8716, RPT: nan, Açıklama: nan, Model Kodu: H&M05772, Model Adı: SUSIE Raglan Dress s0 1251087D-8716 ALT 1, Model Grup Kodu: EBB, Model Grup Adı: Baskılı Elbise, Model Group Name: Printed Dress, Sezon: H&M S 0, Müşteri: H&M, Marka: H&M, Departman: Young Girl (8716), Tedarik Grubu: 10-204, Ülke Kodu: CH, Sipariş Adedi: 513, Döviz Türü: EUR, Döviz Birim Fiyat: 4.16, Döviz Ciro: 2134.08, EUR Ciro: 2134.08, Etüt Makina Dk: 10.344, Toplam Etüt Makina Dk: 5306.472, Etüt Dk: 11.604, Toplam Etüt Dk: 5952.852, MA_WorkOrder_RecId: 147930, NetsisProjectCode: HM01, Booking Statüsü: Kapasite, Order Tipi - Durum: Firm Order - Açık']\n",
      " ['Durum: Açık, Statü: Planlandı, Booking -> Order: EVET, Set Order: HAYIR, Set Parça Sayısı: nan, Order Tipi: Firm Order, Booking Type: Müşteri, Order Grubu: nan, Satış Tipi: Müşteri Koleksiyonu, Sertifikasyon: BCI, Order No: H&M241063, Order Geliş Tarihi: 45436, Sisteme Giriş Tarihi: 45436, Satır ya da Sütun M.İsteme Tarihi: 45488, YIL: 2024, AY: 7, HAFTA: 29, ÇEYREK: Q3, Müşteri Order No: 970190-8716, RPT: nan, Açıklama: nan, Model Kodu: H&M05772, Model Adı: SUSIE Raglan Dress s0 1251087D-8716 ALT 1, Model Grup Kodu: EBB, Model Grup Adı: Baskılı Elbise, Model Group Name: Printed Dress, Sezon: H&M S 0, Müşteri: H&M, Marka: H&M, Departman: Young Girl (8716), Tedarik Grubu: 10-204, Ülke Kodu: SE, Sipariş Adedi: 952, Döviz Türü: EUR, Döviz Birim Fiyat: 4.16, Döviz Ciro: 3960.32, EUR Ciro: 3960.32, Etüt Makina Dk: 10.344, Toplam Etüt Makina Dk: 9847.488, Etüt Dk: 11.604, Toplam Etüt Dk: 11047.008, MA_WorkOrder_RecId: 147930, NetsisProjectCode: HM01, Booking Statüsü: Kapasite, Order Tipi - Durum: Firm Order - Açık']\n",
      " ['Durum: Açık, Statü: Planlandı, Booking -> Order: EVET, Set Order: HAYIR, Set Parça Sayısı: nan, Order Tipi: Firm Order, Booking Type: Müşteri, Order Grubu: nan, Satış Tipi: Müşteri Koleksiyonu, Sertifikasyon: BCI, Order No: H&M241063, Order Geliş Tarihi: 45436, Sisteme Giriş Tarihi: 45436, Satır ya da Sütun M.İsteme Tarihi: 45488, YIL: 2024, AY: 7, HAFTA: 29, ÇEYREK: Q3, Müşteri Order No: 970190-8716, RPT: nan, Açıklama: nan, Model Kodu: H&M05772, Model Adı: SUSIE Raglan Dress s0 1251087D-8716 ALT 1, Model Grup Kodu: EBB, Model Grup Adı: Baskılı Elbise, Model Group Name: Printed Dress, Sezon: H&M S 0, Müşteri: H&M, Marka: H&M, Departman: Young Girl (8716), Tedarik Grubu: 10-204, Ülke Kodu: TR, Sipariş Adedi: 189, Döviz Türü: EUR, Döviz Birim Fiyat: 4.16, Döviz Ciro: 786.24, EUR Ciro: 786.24, Etüt Makina Dk: 10.344, Toplam Etüt Makina Dk: 1955.016, Etüt Dk: 11.604, Toplam Etüt Dk: 2193.156, MA_WorkOrder_RecId: 147930, NetsisProjectCode: HM01, Booking Statüsü: Kapasite, Order Tipi - Durum: Firm Order - Açık']\n",
      " ['Durum: Açık, Statü: Planlandı, Booking -> Order: EVET, Set Order: HAYIR, Set Parça Sayısı: nan, Order Tipi: Firm Order, Booking Type: Müşteri, Order Grubu: nan, Satış Tipi: Müşteri Koleksiyonu, Sertifikasyon: BCI, Order No: H&M241063, Order Geliş Tarihi: 45436, Sisteme Giriş Tarihi: 45436, Satır ya da Sütun M.İsteme Tarihi: 45488, YIL: 2024, AY: 7, HAFTA: 29, ÇEYREK: Q3, Müşteri Order No: 970190-8716, RPT: nan, Açıklama: nan, Model Kodu: H&M05772, Model Adı: SUSIE Raglan Dress s0 1251087D-8716 ALT 1, Model Grup Kodu: EBB, Model Grup Adı: Baskılı Elbise, Model Group Name: Printed Dress, Sezon: H&M S 0, Müşteri: H&M, Marka: H&M, Departman: Young Girl (8716), Tedarik Grubu: 10-204, Ülke Kodu: SE, Sipariş Adedi: 344, Döviz Türü: EUR, Döviz Birim Fiyat: 4.16, Döviz Ciro: 1431.04, EUR Ciro: 1431.04, Etüt Makina Dk: 10.344, Toplam Etüt Makina Dk: 3558.336, Etüt Dk: 11.604, Toplam Etüt Dk: 3991.776, MA_WorkOrder_RecId: 147930, NetsisProjectCode: HM01, Booking Statüsü: Kapasite, Order Tipi - Durum: Firm Order - Açık']]\n",
      "\n",
      "    Query: Departmanı Young Girl(8716) olan kayıtlar\n",
      "Generate:\n"
     ]
    }
   ],
   "source": [
    "query_text = \"Departmanı Young Girl(8716) olan kayıtlar\"\n",
    "generated_text = retrieve_and_generate(query_text, embeddings_siparis, texts_siparis)\n",
    "print(\"Generated text:\", generated_text)"
   ]
  },
  {
   "cell_type": "code",
   "execution_count": null,
   "id": "10609734",
   "metadata": {},
   "outputs": [],
   "source": []
  }
 ],
 "metadata": {
  "kernelspec": {
   "display_name": "Uniteks CPU (Python 3.11)",
   "language": "python",
   "name": "unitekscpu"
  },
  "language_info": {
   "codemirror_mode": {
    "name": "ipython",
    "version": 3
   },
   "file_extension": ".py",
   "mimetype": "text/x-python",
   "name": "python",
   "nbconvert_exporter": "python",
   "pygments_lexer": "ipython3",
   "version": "3.11.5"
  }
 },
 "nbformat": 4,
 "nbformat_minor": 5
}
